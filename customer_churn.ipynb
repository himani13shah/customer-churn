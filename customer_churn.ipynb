{
  "cells": [
    {
      "cell_type": "code",
      "execution_count": 115,
      "metadata": {
        "id": "53WxcYBBjSLU"
      },
      "outputs": [],
      "source": [
        "'''import all necessary libraries'''\n",
        "\n",
        "import tensorflow as tf\n",
        "import pandas as pd\n",
        "import numpy as np\n",
        "import matplotlib.pyplot as plt\n",
        "from tensorflow import keras\n",
        "from sklearn.model_selection import train_test_split\n",
        "from sklearn.metrics import confusion_matrix , classification_report\n",
        "from sklearn.linear_model import LogisticRegression\n",
        "from sklearn.preprocessing import StandardScaler\n",
        "from sklearn.pipeline import make_pipeline"
      ]
    },
    {
      "cell_type": "code",
      "execution_count": 116,
      "metadata": {
        "colab": {
          "base_uri": "https://localhost:8080/",
          "height": 386
        },
        "id": "IDZmzll7kBSy",
        "outputId": "35e072f0-e031-4679-e8c1-26c9795f9fe7"
      },
      "outputs": [
        {
          "output_type": "execute_result",
          "data": {
            "text/plain": [
              "   customerID  gender  SeniorCitizen Partner Dependents  tenure PhoneService  \\\n",
              "0  7590-VHVEG  Female              0     Yes         No       1           No   \n",
              "1  5575-GNVDE    Male              0      No         No      34          Yes   \n",
              "2  3668-QPYBK    Male              0      No         No       2          Yes   \n",
              "3  7795-CFOCW    Male              0      No         No      45           No   \n",
              "4  9237-HQITU  Female              0      No         No       2          Yes   \n",
              "\n",
              "      MultipleLines InternetService OnlineSecurity  ... DeviceProtection  \\\n",
              "0  No phone service             DSL             No  ...               No   \n",
              "1                No             DSL            Yes  ...              Yes   \n",
              "2                No             DSL            Yes  ...               No   \n",
              "3  No phone service             DSL            Yes  ...              Yes   \n",
              "4                No     Fiber optic             No  ...               No   \n",
              "\n",
              "  TechSupport StreamingTV StreamingMovies        Contract PaperlessBilling  \\\n",
              "0          No          No              No  Month-to-month              Yes   \n",
              "1          No          No              No        One year               No   \n",
              "2          No          No              No  Month-to-month              Yes   \n",
              "3         Yes          No              No        One year               No   \n",
              "4          No          No              No  Month-to-month              Yes   \n",
              "\n",
              "               PaymentMethod MonthlyCharges  TotalCharges Churn  \n",
              "0           Electronic check          29.85         29.85    No  \n",
              "1               Mailed check          56.95        1889.5    No  \n",
              "2               Mailed check          53.85        108.15   Yes  \n",
              "3  Bank transfer (automatic)          42.30       1840.75    No  \n",
              "4           Electronic check          70.70        151.65   Yes  \n",
              "\n",
              "[5 rows x 21 columns]"
            ],
            "text/html": [
              "\n",
              "  <div id=\"df-9cb9b381-d298-44aa-9105-265d56a991b3\">\n",
              "    <div class=\"colab-df-container\">\n",
              "      <div>\n",
              "<style scoped>\n",
              "    .dataframe tbody tr th:only-of-type {\n",
              "        vertical-align: middle;\n",
              "    }\n",
              "\n",
              "    .dataframe tbody tr th {\n",
              "        vertical-align: top;\n",
              "    }\n",
              "\n",
              "    .dataframe thead th {\n",
              "        text-align: right;\n",
              "    }\n",
              "</style>\n",
              "<table border=\"1\" class=\"dataframe\">\n",
              "  <thead>\n",
              "    <tr style=\"text-align: right;\">\n",
              "      <th></th>\n",
              "      <th>customerID</th>\n",
              "      <th>gender</th>\n",
              "      <th>SeniorCitizen</th>\n",
              "      <th>Partner</th>\n",
              "      <th>Dependents</th>\n",
              "      <th>tenure</th>\n",
              "      <th>PhoneService</th>\n",
              "      <th>MultipleLines</th>\n",
              "      <th>InternetService</th>\n",
              "      <th>OnlineSecurity</th>\n",
              "      <th>...</th>\n",
              "      <th>DeviceProtection</th>\n",
              "      <th>TechSupport</th>\n",
              "      <th>StreamingTV</th>\n",
              "      <th>StreamingMovies</th>\n",
              "      <th>Contract</th>\n",
              "      <th>PaperlessBilling</th>\n",
              "      <th>PaymentMethod</th>\n",
              "      <th>MonthlyCharges</th>\n",
              "      <th>TotalCharges</th>\n",
              "      <th>Churn</th>\n",
              "    </tr>\n",
              "  </thead>\n",
              "  <tbody>\n",
              "    <tr>\n",
              "      <th>0</th>\n",
              "      <td>7590-VHVEG</td>\n",
              "      <td>Female</td>\n",
              "      <td>0</td>\n",
              "      <td>Yes</td>\n",
              "      <td>No</td>\n",
              "      <td>1</td>\n",
              "      <td>No</td>\n",
              "      <td>No phone service</td>\n",
              "      <td>DSL</td>\n",
              "      <td>No</td>\n",
              "      <td>...</td>\n",
              "      <td>No</td>\n",
              "      <td>No</td>\n",
              "      <td>No</td>\n",
              "      <td>No</td>\n",
              "      <td>Month-to-month</td>\n",
              "      <td>Yes</td>\n",
              "      <td>Electronic check</td>\n",
              "      <td>29.85</td>\n",
              "      <td>29.85</td>\n",
              "      <td>No</td>\n",
              "    </tr>\n",
              "    <tr>\n",
              "      <th>1</th>\n",
              "      <td>5575-GNVDE</td>\n",
              "      <td>Male</td>\n",
              "      <td>0</td>\n",
              "      <td>No</td>\n",
              "      <td>No</td>\n",
              "      <td>34</td>\n",
              "      <td>Yes</td>\n",
              "      <td>No</td>\n",
              "      <td>DSL</td>\n",
              "      <td>Yes</td>\n",
              "      <td>...</td>\n",
              "      <td>Yes</td>\n",
              "      <td>No</td>\n",
              "      <td>No</td>\n",
              "      <td>No</td>\n",
              "      <td>One year</td>\n",
              "      <td>No</td>\n",
              "      <td>Mailed check</td>\n",
              "      <td>56.95</td>\n",
              "      <td>1889.5</td>\n",
              "      <td>No</td>\n",
              "    </tr>\n",
              "    <tr>\n",
              "      <th>2</th>\n",
              "      <td>3668-QPYBK</td>\n",
              "      <td>Male</td>\n",
              "      <td>0</td>\n",
              "      <td>No</td>\n",
              "      <td>No</td>\n",
              "      <td>2</td>\n",
              "      <td>Yes</td>\n",
              "      <td>No</td>\n",
              "      <td>DSL</td>\n",
              "      <td>Yes</td>\n",
              "      <td>...</td>\n",
              "      <td>No</td>\n",
              "      <td>No</td>\n",
              "      <td>No</td>\n",
              "      <td>No</td>\n",
              "      <td>Month-to-month</td>\n",
              "      <td>Yes</td>\n",
              "      <td>Mailed check</td>\n",
              "      <td>53.85</td>\n",
              "      <td>108.15</td>\n",
              "      <td>Yes</td>\n",
              "    </tr>\n",
              "    <tr>\n",
              "      <th>3</th>\n",
              "      <td>7795-CFOCW</td>\n",
              "      <td>Male</td>\n",
              "      <td>0</td>\n",
              "      <td>No</td>\n",
              "      <td>No</td>\n",
              "      <td>45</td>\n",
              "      <td>No</td>\n",
              "      <td>No phone service</td>\n",
              "      <td>DSL</td>\n",
              "      <td>Yes</td>\n",
              "      <td>...</td>\n",
              "      <td>Yes</td>\n",
              "      <td>Yes</td>\n",
              "      <td>No</td>\n",
              "      <td>No</td>\n",
              "      <td>One year</td>\n",
              "      <td>No</td>\n",
              "      <td>Bank transfer (automatic)</td>\n",
              "      <td>42.30</td>\n",
              "      <td>1840.75</td>\n",
              "      <td>No</td>\n",
              "    </tr>\n",
              "    <tr>\n",
              "      <th>4</th>\n",
              "      <td>9237-HQITU</td>\n",
              "      <td>Female</td>\n",
              "      <td>0</td>\n",
              "      <td>No</td>\n",
              "      <td>No</td>\n",
              "      <td>2</td>\n",
              "      <td>Yes</td>\n",
              "      <td>No</td>\n",
              "      <td>Fiber optic</td>\n",
              "      <td>No</td>\n",
              "      <td>...</td>\n",
              "      <td>No</td>\n",
              "      <td>No</td>\n",
              "      <td>No</td>\n",
              "      <td>No</td>\n",
              "      <td>Month-to-month</td>\n",
              "      <td>Yes</td>\n",
              "      <td>Electronic check</td>\n",
              "      <td>70.70</td>\n",
              "      <td>151.65</td>\n",
              "      <td>Yes</td>\n",
              "    </tr>\n",
              "  </tbody>\n",
              "</table>\n",
              "<p>5 rows × 21 columns</p>\n",
              "</div>\n",
              "      <button class=\"colab-df-convert\" onclick=\"convertToInteractive('df-9cb9b381-d298-44aa-9105-265d56a991b3')\"\n",
              "              title=\"Convert this dataframe to an interactive table.\"\n",
              "              style=\"display:none;\">\n",
              "        \n",
              "  <svg xmlns=\"http://www.w3.org/2000/svg\" height=\"24px\"viewBox=\"0 0 24 24\"\n",
              "       width=\"24px\">\n",
              "    <path d=\"M0 0h24v24H0V0z\" fill=\"none\"/>\n",
              "    <path d=\"M18.56 5.44l.94 2.06.94-2.06 2.06-.94-2.06-.94-.94-2.06-.94 2.06-2.06.94zm-11 1L8.5 8.5l.94-2.06 2.06-.94-2.06-.94L8.5 2.5l-.94 2.06-2.06.94zm10 10l.94 2.06.94-2.06 2.06-.94-2.06-.94-.94-2.06-.94 2.06-2.06.94z\"/><path d=\"M17.41 7.96l-1.37-1.37c-.4-.4-.92-.59-1.43-.59-.52 0-1.04.2-1.43.59L10.3 9.45l-7.72 7.72c-.78.78-.78 2.05 0 2.83L4 21.41c.39.39.9.59 1.41.59.51 0 1.02-.2 1.41-.59l7.78-7.78 2.81-2.81c.8-.78.8-2.07 0-2.86zM5.41 20L4 18.59l7.72-7.72 1.47 1.35L5.41 20z\"/>\n",
              "  </svg>\n",
              "      </button>\n",
              "      \n",
              "  <style>\n",
              "    .colab-df-container {\n",
              "      display:flex;\n",
              "      flex-wrap:wrap;\n",
              "      gap: 12px;\n",
              "    }\n",
              "\n",
              "    .colab-df-convert {\n",
              "      background-color: #E8F0FE;\n",
              "      border: none;\n",
              "      border-radius: 50%;\n",
              "      cursor: pointer;\n",
              "      display: none;\n",
              "      fill: #1967D2;\n",
              "      height: 32px;\n",
              "      padding: 0 0 0 0;\n",
              "      width: 32px;\n",
              "    }\n",
              "\n",
              "    .colab-df-convert:hover {\n",
              "      background-color: #E2EBFA;\n",
              "      box-shadow: 0px 1px 2px rgba(60, 64, 67, 0.3), 0px 1px 3px 1px rgba(60, 64, 67, 0.15);\n",
              "      fill: #174EA6;\n",
              "    }\n",
              "\n",
              "    [theme=dark] .colab-df-convert {\n",
              "      background-color: #3B4455;\n",
              "      fill: #D2E3FC;\n",
              "    }\n",
              "\n",
              "    [theme=dark] .colab-df-convert:hover {\n",
              "      background-color: #434B5C;\n",
              "      box-shadow: 0px 1px 3px 1px rgba(0, 0, 0, 0.15);\n",
              "      filter: drop-shadow(0px 1px 2px rgba(0, 0, 0, 0.3));\n",
              "      fill: #FFFFFF;\n",
              "    }\n",
              "  </style>\n",
              "\n",
              "      <script>\n",
              "        const buttonEl =\n",
              "          document.querySelector('#df-9cb9b381-d298-44aa-9105-265d56a991b3 button.colab-df-convert');\n",
              "        buttonEl.style.display =\n",
              "          google.colab.kernel.accessAllowed ? 'block' : 'none';\n",
              "\n",
              "        async function convertToInteractive(key) {\n",
              "          const element = document.querySelector('#df-9cb9b381-d298-44aa-9105-265d56a991b3');\n",
              "          const dataTable =\n",
              "            await google.colab.kernel.invokeFunction('convertToInteractive',\n",
              "                                                     [key], {});\n",
              "          if (!dataTable) return;\n",
              "\n",
              "          const docLinkHtml = 'Like what you see? Visit the ' +\n",
              "            '<a target=\"_blank\" href=https://colab.research.google.com/notebooks/data_table.ipynb>data table notebook</a>'\n",
              "            + ' to learn more about interactive tables.';\n",
              "          element.innerHTML = '';\n",
              "          dataTable['output_type'] = 'display_data';\n",
              "          await google.colab.output.renderOutput(dataTable, element);\n",
              "          const docLink = document.createElement('div');\n",
              "          docLink.innerHTML = docLinkHtml;\n",
              "          element.appendChild(docLink);\n",
              "        }\n",
              "      </script>\n",
              "    </div>\n",
              "  </div>\n",
              "  "
            ]
          },
          "metadata": {},
          "execution_count": 116
        }
      ],
      "source": [
        "'''costumer churn data set from kaggle'''\n",
        "\n",
        "churn_df = pd.read_csv(\n",
        "    'drive/MyDrive/customer_churn/WA_Fn-UseC_-Telco-Customer-Churn.csv')\n",
        "churn_df.head(5)"
      ]
    },
    {
      "cell_type": "code",
      "execution_count": 117,
      "metadata": {
        "colab": {
          "base_uri": "https://localhost:8080/"
        },
        "id": "cGEjpoKjvsOv",
        "outputId": "b23f9ffb-4ac2-4ef4-d179-3dfb6e1c56db"
      },
      "outputs": [
        {
          "output_type": "execute_result",
          "data": {
            "text/plain": [
              "(7043, 21)"
            ]
          },
          "metadata": {},
          "execution_count": 117
        }
      ],
      "source": [
        "churn_df.shape"
      ]
    },
    {
      "cell_type": "code",
      "execution_count": 118,
      "metadata": {
        "id": "oI9FQeiamnFb"
      },
      "outputs": [],
      "source": [
        "'''customerID is not a useful feature to predict churn'''\n",
        "churn_df.drop('customerID', axis='columns', inplace=True)"
      ]
    },
    {
      "cell_type": "code",
      "execution_count": 119,
      "metadata": {
        "colab": {
          "base_uri": "https://localhost:8080/"
        },
        "id": "dEV3lLtRnK34",
        "outputId": "c210d675-efd6-40e8-b831-1beaaf87fce4"
      },
      "outputs": [
        {
          "output_type": "stream",
          "name": "stdout",
          "text": [
            "gender: ['Female' 'Male']\n",
            "SeniorCitizen: [0 1]\n",
            "Partner: ['Yes' 'No']\n",
            "Dependents: ['No' 'Yes']\n",
            "tenure: [ 1 34  2 45  8 22 10 28 62 13 16 58 49 25 69 52 71 21 12 30 47 72 17 27\n",
            "  5 46 11 70 63 43 15 60 18 66  9  3 31 50 64 56  7 42 35 48 29 65 38 68\n",
            " 32 55 37 36 41  6  4 33 67 23 57 61 14 20 53 40 59 24 44 19 54 51 26  0\n",
            " 39]\n",
            "PhoneService: ['No' 'Yes']\n",
            "MultipleLines: ['No phone service' 'No' 'Yes']\n",
            "InternetService: ['DSL' 'Fiber optic' 'No']\n",
            "OnlineSecurity: ['No' 'Yes' 'No internet service']\n",
            "OnlineBackup: ['Yes' 'No' 'No internet service']\n",
            "DeviceProtection: ['No' 'Yes' 'No internet service']\n",
            "TechSupport: ['No' 'Yes' 'No internet service']\n",
            "StreamingTV: ['No' 'Yes' 'No internet service']\n",
            "StreamingMovies: ['No' 'Yes' 'No internet service']\n",
            "Contract: ['Month-to-month' 'One year' 'Two year']\n",
            "PaperlessBilling: ['Yes' 'No']\n",
            "PaymentMethod: ['Electronic check' 'Mailed check' 'Bank transfer (automatic)'\n",
            " 'Credit card (automatic)']\n",
            "MonthlyCharges: [29.85 56.95 53.85 ... 63.1  44.2  78.7 ]\n",
            "TotalCharges: ['29.85' '1889.5' '108.15' ... '346.45' '306.6' '6844.5']\n",
            "Churn: ['No' 'Yes']\n"
          ]
        }
      ],
      "source": [
        "for column in churn_df.columns:\n",
        "  print(f'{column}: {churn_df[column].unique()}')"
      ]
    },
    {
      "cell_type": "code",
      "execution_count": 120,
      "metadata": {
        "id": "dQxgFhn9qEih"
      },
      "outputs": [],
      "source": [
        "'''\"No internet service\",\"No phone service\" is similar to NO'''\n",
        "churn_df.replace('No internet service','No',inplace=True)\n",
        "churn_df.replace('No phone service','No',inplace=True)"
      ]
    },
    {
      "cell_type": "markdown",
      "metadata": {
        "id": "yZda6ejFxaKK"
      },
      "source": [
        "Get dummy variable for some coulmns with labels"
      ]
    },
    {
      "cell_type": "code",
      "execution_count": 121,
      "metadata": {
        "id": "g44jPR50wLRK"
      },
      "outputs": [],
      "source": [
        "churn_df1 = pd.get_dummies(data=churn_df, columns=['InternetService','Contract',\n",
        "                                                   'PaymentMethod'])"
      ]
    },
    {
      "cell_type": "code",
      "execution_count": 122,
      "metadata": {
        "id": "aHiDbX3VycgL"
      },
      "outputs": [],
      "source": [
        "churn_df1['gender'].replace({'Female':1,'Male':0},inplace=True)\n",
        "churn_df1.replace({'Yes':1,'No':0},inplace=True)"
      ]
    },
    {
      "cell_type": "code",
      "execution_count": 123,
      "metadata": {
        "colab": {
          "base_uri": "https://localhost:8080/"
        },
        "id": "wIA8bzZcyWPc",
        "outputId": "5c30b884-a0bd-4dda-897d-a12b8d361615"
      },
      "outputs": [
        {
          "output_type": "stream",
          "name": "stdout",
          "text": [
            "gender: [1 0]\n",
            "SeniorCitizen: [0 1]\n",
            "Partner: [1 0]\n",
            "Dependents: [0 1]\n",
            "tenure: [ 1 34  2 45  8 22 10 28 62 13 16 58 49 25 69 52 71 21 12 30 47 72 17 27\n",
            "  5 46 11 70 63 43 15 60 18 66  9  3 31 50 64 56  7 42 35 48 29 65 38 68\n",
            " 32 55 37 36 41  6  4 33 67 23 57 61 14 20 53 40 59 24 44 19 54 51 26  0\n",
            " 39]\n",
            "PhoneService: [0 1]\n",
            "MultipleLines: [0 1]\n",
            "OnlineSecurity: [0 1]\n",
            "OnlineBackup: [1 0]\n",
            "DeviceProtection: [0 1]\n",
            "TechSupport: [0 1]\n",
            "StreamingTV: [0 1]\n",
            "StreamingMovies: [0 1]\n",
            "PaperlessBilling: [1 0]\n",
            "MonthlyCharges: [29.85 56.95 53.85 ... 63.1  44.2  78.7 ]\n",
            "TotalCharges: ['29.85' '1889.5' '108.15' ... '346.45' '306.6' '6844.5']\n",
            "Churn: [0 1]\n",
            "InternetService_DSL: [1 0]\n",
            "InternetService_Fiber optic: [0 1]\n",
            "InternetService_No: [0 1]\n",
            "Contract_Month-to-month: [1 0]\n",
            "Contract_One year: [0 1]\n",
            "Contract_Two year: [0 1]\n",
            "PaymentMethod_Bank transfer (automatic): [0 1]\n",
            "PaymentMethod_Credit card (automatic): [0 1]\n",
            "PaymentMethod_Electronic check: [1 0]\n",
            "PaymentMethod_Mailed check: [0 1]\n"
          ]
        }
      ],
      "source": [
        "for column in churn_df1.columns:\n",
        "  print(f'{column}: {churn_df1[column].unique()}')"
      ]
    },
    {
      "cell_type": "code",
      "source": [
        "churn_df1 = churn_df1[churn_df1.TotalCharges!=' '] # delete rows include empty cell in totalcharges\n",
        "churn_df1.shape"
      ],
      "metadata": {
        "colab": {
          "base_uri": "https://localhost:8080/"
        },
        "id": "6ZLtCOnmmUjl",
        "outputId": "45234c01-8cd7-4cb0-d4fd-f1f88138d1db"
      },
      "execution_count": 124,
      "outputs": [
        {
          "output_type": "execute_result",
          "data": {
            "text/plain": [
              "(7032, 27)"
            ]
          },
          "metadata": {},
          "execution_count": 124
        }
      ]
    },
    {
      "cell_type": "code",
      "execution_count": 125,
      "metadata": {
        "id": "70swhE818-xv",
        "colab": {
          "base_uri": "https://localhost:8080/"
        },
        "outputId": "7b86207b-f0a6-4c40-fe6c-7a3bf2e2ae0b"
      },
      "outputs": [
        {
          "output_type": "stream",
          "name": "stderr",
          "text": [
            "/usr/local/lib/python3.7/dist-packages/pandas/core/generic.py:5516: SettingWithCopyWarning: \n",
            "A value is trying to be set on a copy of a slice from a DataFrame.\n",
            "Try using .loc[row_indexer,col_indexer] = value instead\n",
            "\n",
            "See the caveats in the documentation: https://pandas.pydata.org/pandas-docs/stable/user_guide/indexing.html#returning-a-view-versus-a-copy\n",
            "  self[name] = value\n"
          ]
        }
      ],
      "source": [
        "churn_df1.TotalCharges = pd.to_numeric(churn_df1.TotalCharges) # change datatype "
      ]
    },
    {
      "cell_type": "code",
      "execution_count": 126,
      "metadata": {
        "id": "fQ2lmXI2_Sg1"
      },
      "outputs": [],
      "source": [
        "dict_columns_type = {'InternetService_DSL': int,\n",
        "                'InternetService_Fiber optic': int,\n",
        "                'InternetService_No':int,\n",
        "                'Contract_Month-to-month':int,\n",
        "                'Contract_One year':int,\n",
        "                'Contract_Two year':int,\n",
        "                'PaymentMethod_Bank transfer (automatic)':int,\n",
        "                'PaymentMethod_Credit card (automatic)':int,\n",
        "                'PaymentMethod_Electronic check':int,\n",
        "                'PaymentMethod_Mailed check':int\n",
        "               }\n",
        "    \n",
        "churn_df1 = churn_df1.astype(dict_columns_type)\n"
      ]
    },
    {
      "cell_type": "code",
      "execution_count": 127,
      "metadata": {
        "colab": {
          "base_uri": "https://localhost:8080/"
        },
        "id": "ZkuUQd4H_D4N",
        "outputId": "4c5aef0a-64a3-4919-ca07-fbb5cc52bd62"
      },
      "outputs": [
        {
          "output_type": "execute_result",
          "data": {
            "text/plain": [
              "gender                                       int64\n",
              "SeniorCitizen                                int64\n",
              "Partner                                      int64\n",
              "Dependents                                   int64\n",
              "tenure                                       int64\n",
              "PhoneService                                 int64\n",
              "MultipleLines                                int64\n",
              "OnlineSecurity                               int64\n",
              "OnlineBackup                                 int64\n",
              "DeviceProtection                             int64\n",
              "TechSupport                                  int64\n",
              "StreamingTV                                  int64\n",
              "StreamingMovies                              int64\n",
              "PaperlessBilling                             int64\n",
              "MonthlyCharges                             float64\n",
              "TotalCharges                               float64\n",
              "Churn                                        int64\n",
              "InternetService_DSL                          int64\n",
              "InternetService_Fiber optic                  int64\n",
              "InternetService_No                           int64\n",
              "Contract_Month-to-month                      int64\n",
              "Contract_One year                            int64\n",
              "Contract_Two year                            int64\n",
              "PaymentMethod_Bank transfer (automatic)      int64\n",
              "PaymentMethod_Credit card (automatic)        int64\n",
              "PaymentMethod_Electronic check               int64\n",
              "PaymentMethod_Mailed check                   int64\n",
              "dtype: object"
            ]
          },
          "metadata": {},
          "execution_count": 127
        }
      ],
      "source": [
        "churn_df1.dtypes"
      ]
    },
    {
      "cell_type": "markdown",
      "metadata": {
        "id": "RxB87no8NzdS"
      },
      "source": [
        "Insights of how different feature affect churn"
      ]
    },
    {
      "cell_type": "code",
      "execution_count": 128,
      "metadata": {
        "id": "MvqUnecqdi2r"
      },
      "outputs": [],
      "source": [
        "totalcharges_no = churn_df1[churn_df1.Churn == 0].TotalCharges\n",
        "totalcharges_yes = churn_df1[churn_df1.Churn == 1].TotalCharges"
      ]
    },
    {
      "cell_type": "code",
      "execution_count": 129,
      "metadata": {
        "id": "9bSwavUFOLNj"
      },
      "outputs": [],
      "source": [
        "tenure_no = churn_df1[churn_df1.Churn == 0].tenure\n",
        "tenure_yes = churn_df1[churn_df1.Churn == 1].tenure"
      ]
    },
    {
      "cell_type": "code",
      "execution_count": 130,
      "metadata": {
        "id": "S2x98SrRnOp9"
      },
      "outputs": [],
      "source": [
        "female_no = churn_df1[churn_df1.Churn == 0].gender\n",
        "female_yes = churn_df1[churn_df1.Churn == 1].gender\n",
        "male_no = churn_df1[churn_df1.Churn == 0].gender\n",
        "male_yes = churn_df1[churn_df1.Churn == 1].gender"
      ]
    },
    {
      "cell_type": "code",
      "execution_count": 131,
      "metadata": {
        "colab": {
          "base_uri": "https://localhost:8080/",
          "height": 457
        },
        "id": "Wp_l22cDRiRc",
        "outputId": "9f76b32f-5106-4b52-ab2d-1652f38e5de0"
      },
      "outputs": [
        {
          "output_type": "stream",
          "name": "stderr",
          "text": [
            "/usr/local/lib/python3.7/dist-packages/numpy/core/fromnumeric.py:3208: VisibleDeprecationWarning: Creating an ndarray from ragged nested sequences (which is a list-or-tuple of lists-or-tuples-or ndarrays with different lengths or shapes) is deprecated. If you meant to do this, you must specify 'dtype=object' when creating the ndarray.\n",
            "  return asarray(a).size\n",
            "/usr/local/lib/python3.7/dist-packages/matplotlib/cbook/__init__.py:1376: VisibleDeprecationWarning: Creating an ndarray from ragged nested sequences (which is a list-or-tuple of lists-or-tuples-or ndarrays with different lengths or shapes) is deprecated. If you meant to do this, you must specify 'dtype=object' when creating the ndarray.\n",
            "  X = np.atleast_1d(X.T if isinstance(X, np.ndarray) else np.asarray(X))\n"
          ]
        },
        {
          "output_type": "execute_result",
          "data": {
            "text/plain": [
              "<matplotlib.legend.Legend at 0x7f7060877510>"
            ]
          },
          "metadata": {},
          "execution_count": 131
        },
        {
          "output_type": "display_data",
          "data": {
            "text/plain": [
              "<Figure size 720x360 with 2 Axes>"
            ],
            "image/png": "[encoded data removed]"
          },
          "metadata": {
            "needs_background": "light"
          }
        }
      ],
      "source": [
        "plt.figure(figsize=(10,5))\n",
        "\n",
        "plt.subplot(1,2,1)\n",
        "plt.xlabel('total charges')\n",
        "plt.ylabel('number of cutomers')\n",
        "plt.title('total charges vs number of customers')\n",
        "\n",
        "plt.hist([totalcharges_no,totalcharges_yes],rwidth=0.75,color=['red','green'], label=['churn=no','churn=yes'])\n",
        "plt.legend()\n",
        "\n",
        "plt.subplot(1,2,2)\n",
        "plt.xlabel('tenure')\n",
        "plt.ylabel('number of cutomers')\n",
        "plt.title('tenure vs number of customers')\n",
        "\n",
        "plt.hist([tenure_no,tenure_yes],rwidth=0.75,color=['red','green'], label=['churn=no','churn=yes'])\n",
        "plt.legend()"
      ]
    },
    {
      "cell_type": "markdown",
      "source": [
        "Apply scaling on the features which values are not in between 0 and 1,\n",
        "we use min max scaling from sklearn"
      ],
      "metadata": {
        "id": "57i2H-7Jp4Ns"
      }
    },
    {
      "cell_type": "code",
      "execution_count": 132,
      "metadata": {
        "id": "sTuLIByupMZH"
      },
      "outputs": [],
      "source": [
        "cols_to_scale = ['tenure','MonthlyCharges','TotalCharges']\n",
        "\n",
        "from sklearn.preprocessing import MinMaxScaler\n",
        "scaler = MinMaxScaler()\n",
        "churn_df1[cols_to_scale] = scaler.fit_transform(churn_df1[cols_to_scale])"
      ]
    },
    {
      "cell_type": "code",
      "execution_count": 133,
      "metadata": {
        "id": "xysmqiMlq0hH"
      },
      "outputs": [],
      "source": [
        "X = churn_df1.drop(['Churn','gender','TechSupport'],axis='columns')\n",
        "y = churn_df1['Churn']\n",
        "\n",
        "from sklearn.model_selection import train_test_split\n",
        "X_train, X_test, y_train, y_test = train_test_split(X,y,test_size=0.2,random_state=5)"
      ]
    },
    {
      "cell_type": "markdown",
      "source": [
        "Now we create nueral network for category classification, In which we define hidden layers using keras from tensorflow"
      ],
      "metadata": {
        "id": "ff3kSCCPqLMD"
      }
    },
    {
      "cell_type": "code",
      "execution_count": 134,
      "metadata": {
        "colab": {
          "base_uri": "https://localhost:8080/"
        },
        "id": "kMAlqSlIfguf",
        "outputId": "59935986-b55e-45a3-a4b8-d9222b527893"
      },
      "outputs": [
        {
          "output_type": "stream",
          "name": "stdout",
          "text": [
            "Epoch 1/50\n",
            "176/176 [==============================] - 1s 4ms/step - loss: 0.4833 - accuracy: 0.7586\n",
            "Epoch 2/50\n",
            "176/176 [==============================] - 1s 4ms/step - loss: 0.4268 - accuracy: 0.7950\n",
            "Epoch 3/50\n",
            "176/176 [==============================] - 1s 4ms/step - loss: 0.4206 - accuracy: 0.7989\n",
            "Epoch 4/50\n",
            "176/176 [==============================] - 1s 3ms/step - loss: 0.4165 - accuracy: 0.8030\n",
            "Epoch 5/50\n",
            "176/176 [==============================] - 1s 4ms/step - loss: 0.4146 - accuracy: 0.8041\n",
            "Epoch 6/50\n",
            "176/176 [==============================] - 1s 4ms/step - loss: 0.4124 - accuracy: 0.8044\n",
            "Epoch 7/50\n",
            "176/176 [==============================] - 1s 3ms/step - loss: 0.4124 - accuracy: 0.8068\n",
            "Epoch 8/50\n",
            "176/176 [==============================] - 1s 4ms/step - loss: 0.4098 - accuracy: 0.8053\n",
            "Epoch 9/50\n",
            "176/176 [==============================] - 1s 3ms/step - loss: 0.4086 - accuracy: 0.8084\n",
            "Epoch 10/50\n",
            "176/176 [==============================] - 1s 4ms/step - loss: 0.4084 - accuracy: 0.8091\n",
            "Epoch 11/50\n",
            "176/176 [==============================] - 1s 4ms/step - loss: 0.4058 - accuracy: 0.8073\n",
            "Epoch 12/50\n",
            "176/176 [==============================] - 1s 3ms/step - loss: 0.4051 - accuracy: 0.8092\n",
            "Epoch 13/50\n",
            "176/176 [==============================] - 1s 4ms/step - loss: 0.4044 - accuracy: 0.8116\n",
            "Epoch 14/50\n",
            "176/176 [==============================] - 1s 4ms/step - loss: 0.4034 - accuracy: 0.8108\n",
            "Epoch 15/50\n",
            "176/176 [==============================] - 1s 4ms/step - loss: 0.4025 - accuracy: 0.8144\n",
            "Epoch 16/50\n",
            "176/176 [==============================] - 1s 3ms/step - loss: 0.4023 - accuracy: 0.8126\n",
            "Epoch 17/50\n",
            "176/176 [==============================] - 1s 3ms/step - loss: 0.4005 - accuracy: 0.8137\n",
            "Epoch 18/50\n",
            "176/176 [==============================] - 1s 4ms/step - loss: 0.3994 - accuracy: 0.8149\n",
            "Epoch 19/50\n",
            "176/176 [==============================] - 1s 3ms/step - loss: 0.3988 - accuracy: 0.8160\n",
            "Epoch 20/50\n",
            "176/176 [==============================] - 1s 3ms/step - loss: 0.3989 - accuracy: 0.8139\n",
            "Epoch 21/50\n",
            "176/176 [==============================] - 1s 4ms/step - loss: 0.3969 - accuracy: 0.8151\n",
            "Epoch 22/50\n",
            "176/176 [==============================] - 1s 4ms/step - loss: 0.3960 - accuracy: 0.8137\n",
            "Epoch 23/50\n",
            "176/176 [==============================] - 1s 4ms/step - loss: 0.3958 - accuracy: 0.8149\n",
            "Epoch 24/50\n",
            "176/176 [==============================] - 1s 4ms/step - loss: 0.3961 - accuracy: 0.8137\n",
            "Epoch 25/50\n",
            "176/176 [==============================] - 1s 4ms/step - loss: 0.3952 - accuracy: 0.8128\n",
            "Epoch 26/50\n",
            "176/176 [==============================] - 1s 4ms/step - loss: 0.3940 - accuracy: 0.8151\n",
            "Epoch 27/50\n",
            "176/176 [==============================] - 1s 4ms/step - loss: 0.3939 - accuracy: 0.8149\n",
            "Epoch 28/50\n",
            "176/176 [==============================] - 1s 3ms/step - loss: 0.3932 - accuracy: 0.8156\n",
            "Epoch 29/50\n",
            "176/176 [==============================] - 1s 4ms/step - loss: 0.3935 - accuracy: 0.8171\n",
            "Epoch 30/50\n",
            "176/176 [==============================] - 1s 4ms/step - loss: 0.3926 - accuracy: 0.8151\n",
            "Epoch 31/50\n",
            "176/176 [==============================] - 1s 4ms/step - loss: 0.3927 - accuracy: 0.8169\n",
            "Epoch 32/50\n",
            "176/176 [==============================] - 1s 4ms/step - loss: 0.3907 - accuracy: 0.8187\n",
            "Epoch 33/50\n",
            "176/176 [==============================] - 1s 4ms/step - loss: 0.3912 - accuracy: 0.8149\n",
            "Epoch 34/50\n",
            "176/176 [==============================] - 1s 4ms/step - loss: 0.3910 - accuracy: 0.8167\n",
            "Epoch 35/50\n",
            "176/176 [==============================] - 1s 3ms/step - loss: 0.3895 - accuracy: 0.8169\n",
            "Epoch 36/50\n",
            "176/176 [==============================] - 1s 3ms/step - loss: 0.3890 - accuracy: 0.8183\n",
            "Epoch 37/50\n",
            "176/176 [==============================] - 1s 3ms/step - loss: 0.3886 - accuracy: 0.8183\n",
            "Epoch 38/50\n",
            "176/176 [==============================] - 1s 4ms/step - loss: 0.3880 - accuracy: 0.8185\n",
            "Epoch 39/50\n",
            "176/176 [==============================] - 1s 4ms/step - loss: 0.3887 - accuracy: 0.8181\n",
            "Epoch 40/50\n",
            "176/176 [==============================] - 1s 3ms/step - loss: 0.3878 - accuracy: 0.8201\n",
            "Epoch 41/50\n",
            "176/176 [==============================] - 1s 4ms/step - loss: 0.3870 - accuracy: 0.8190\n",
            "Epoch 42/50\n",
            "176/176 [==============================] - 1s 4ms/step - loss: 0.3875 - accuracy: 0.8204\n",
            "Epoch 43/50\n",
            "176/176 [==============================] - 1s 3ms/step - loss: 0.3870 - accuracy: 0.8199\n",
            "Epoch 44/50\n",
            "176/176 [==============================] - 1s 4ms/step - loss: 0.3859 - accuracy: 0.8199\n",
            "Epoch 45/50\n",
            "176/176 [==============================] - 1s 4ms/step - loss: 0.3856 - accuracy: 0.8180\n",
            "Epoch 46/50\n",
            "176/176 [==============================] - 1s 3ms/step - loss: 0.3851 - accuracy: 0.8197\n",
            "Epoch 47/50\n",
            "176/176 [==============================] - 1s 4ms/step - loss: 0.3845 - accuracy: 0.8210\n",
            "Epoch 48/50\n",
            "176/176 [==============================] - 1s 3ms/step - loss: 0.3851 - accuracy: 0.8197\n",
            "Epoch 49/50\n",
            "176/176 [==============================] - 1s 4ms/step - loss: 0.3846 - accuracy: 0.8212\n",
            "Epoch 50/50\n",
            "176/176 [==============================] - 1s 4ms/step - loss: 0.3843 - accuracy: 0.8204\n"
          ]
        }
      ],
      "source": [
        "import tensorflow as tf\n",
        "from tensorflow import keras\n",
        "\n",
        "\n",
        "model = keras.Sequential([\n",
        "    keras.layers.Dense(24, input_shape=(24,), activation='relu'),\n",
        "    keras.layers.Dense(12, activation='relu'),\n",
        "    # keras.layers.Dense(14, activation='relu'),\n",
        "    # keras.layers.Dense(8, activation='relu'),\n",
        "    keras.layers.Dense(1, activation='sigmoid')\n",
        "])\n",
        "\n",
        "# opt = keras.optimizers.Adam(learning_rate=0.01)\n",
        "\n",
        "model.compile(optimizer='adam',\n",
        "              loss='binary_crossentropy',\n",
        "              metrics=['accuracy'])\n",
        "epoch = 50\n",
        "ind = list()\n",
        "for i in range(50):\n",
        "  ind.append(i)\n",
        "history = model.fit(X_train, y_train, epochs=50).history"
      ]
    },
    {
      "cell_type": "code",
      "source": [
        "plt.plot(ind, history['accuracy'], 'blue', label='Training acc')\n",
        "plt.plot(ind, history['loss'], 'red', label='loss')\n",
        "plt.title('Training and validation accuracy')\n",
        "plt.legend()\n",
        "plt.show()"
      ],
      "metadata": {
        "colab": {
          "base_uri": "https://localhost:8080/",
          "height": 281
        },
        "id": "MuHJuuT6oqZj",
        "outputId": "9f480824-f223-4416-997f-e628dba3cb08"
      },
      "execution_count": 135,
      "outputs": [
        {
          "output_type": "display_data",
          "data": {
            "text/plain": [
              "<Figure size 432x288 with 1 Axes>"
            ],
            "image/png": "[encoded data removed]"
          },
          "metadata": {
            "needs_background": "light"
          }
        }
      ]
    },
    {
      "cell_type": "code",
      "source": [
        "yp = model.predict(X_test)\n",
        "\n",
        "'''convert float values into category 1 and 0 using thresold point 0.5'''\n",
        "y_pred = []\n",
        "for element in yp:\n",
        "    if element > 0.5:\n",
        "        y_pred.append(1)\n",
        "    else:\n",
        "        y_pred.append(0)"
      ],
      "metadata": {
        "id": "ChPrQqa_pHFR"
      },
      "execution_count": 136,
      "outputs": []
    },
    {
      "cell_type": "code",
      "source": [
        "from sklearn.metrics import confusion_matrix , classification_report\n",
        "\n",
        "print(classification_report(y_test,y_pred))"
      ],
      "metadata": {
        "colab": {
          "base_uri": "https://localhost:8080/"
        },
        "id": "plOFfSRWoaLW",
        "outputId": "6dbfd5f1-d62d-46b4-8da5-93a93da032a9"
      },
      "execution_count": 137,
      "outputs": [
        {
          "output_type": "stream",
          "name": "stdout",
          "text": [
            "              precision    recall  f1-score   support\n",
            "\n",
            "           0       0.80      0.91      0.85       999\n",
            "           1       0.68      0.44      0.53       408\n",
            "\n",
            "    accuracy                           0.78      1407\n",
            "   macro avg       0.74      0.68      0.69      1407\n",
            "weighted avg       0.76      0.78      0.76      1407\n",
            "\n"
          ]
        }
      ]
    },
    {
      "cell_type": "code",
      "source": [
        "import seaborn as sn\n",
        "cm = tf.math.confusion_matrix(labels=y_test,predictions=y_pred)\n",
        "\n",
        "plt.figure(figsize = (10,7))\n",
        "sn.heatmap(cm, annot=True, fmt='d')\n",
        "plt.xlabel('Predicted')\n",
        "plt.ylabel('Truth')"
      ],
      "metadata": {
        "colab": {
          "base_uri": "https://localhost:8080/",
          "height": 459
        },
        "id": "O5kFiteUoi0j",
        "outputId": "e9f7abc0-6e46-4ab0-b93f-e526a72f09f5"
      },
      "execution_count": 138,
      "outputs": [
        {
          "output_type": "execute_result",
          "data": {
            "text/plain": [
              "Text(69.0, 0.5, 'Truth')"
            ]
          },
          "metadata": {},
          "execution_count": 138
        },
        {
          "output_type": "display_data",
          "data": {
            "text/plain": [
              "<Figure size 720x504 with 2 Axes>"
            ],
            "image/png": "[encoded data removed]"
          },
          "metadata": {
            "needs_background": "light"
          }
        }
      ]
    },
    {
      "cell_type": "markdown",
      "source": [
        "Now we find accuracy using logistic regression"
      ],
      "metadata": {
        "id": "C30OigD8ppRo"
      }
    },
    {
      "cell_type": "code",
      "source": [
        "from sklearn.linear_model import LogisticRegression\n",
        "\n",
        "logisticRegr = LogisticRegression()\n",
        "logisticRegr.fit(X_train, y_train)"
      ],
      "metadata": {
        "colab": {
          "base_uri": "https://localhost:8080/"
        },
        "id": "3b9A5HGwm8TT",
        "outputId": "4a6a7d34-aacd-4955-ec8c-08c9d707294f"
      },
      "execution_count": 139,
      "outputs": [
        {
          "output_type": "execute_result",
          "data": {
            "text/plain": [
              "LogisticRegression()"
            ]
          },
          "metadata": {},
          "execution_count": 139
        }
      ]
    },
    {
      "cell_type": "code",
      "source": [
        "from sklearn import metrics\n",
        "\n",
        "y_pred = logisticRegr.predict(X_test)\n",
        "metrics.accuracy_score(y_pred, y_test)"
      ],
      "metadata": {
        "colab": {
          "base_uri": "https://localhost:8080/"
        },
        "id": "nnHW9s6ongUq",
        "outputId": "5642aa6b-5c85-4ef1-8e89-7ecca4459a5c"
      },
      "execution_count": 140,
      "outputs": [
        {
          "output_type": "execute_result",
          "data": {
            "text/plain": [
              "0.7945984363894811"
            ]
          },
          "metadata": {},
          "execution_count": 140
        }
      ]
    },
    {
      "cell_type": "code",
      "source": [
        "from sklearn.metrics import confusion_matrix , classification_report\n",
        "\n",
        "print(classification_report(y_test,y_pred))"
      ],
      "metadata": {
        "colab": {
          "base_uri": "https://localhost:8080/"
        },
        "id": "ge8pIBSJnjip",
        "outputId": "8e69c302-7722-40b9-b651-35af8ce4e3ab"
      },
      "execution_count": 141,
      "outputs": [
        {
          "output_type": "stream",
          "name": "stdout",
          "text": [
            "              precision    recall  f1-score   support\n",
            "\n",
            "           0       0.83      0.89      0.86       999\n",
            "           1       0.68      0.55      0.61       408\n",
            "\n",
            "    accuracy                           0.79      1407\n",
            "   macro avg       0.75      0.72      0.73      1407\n",
            "weighted avg       0.79      0.79      0.79      1407\n",
            "\n"
          ]
        }
      ]
    },
    {
      "cell_type": "code",
      "source": [
        "import seaborn as sn\n",
        "cm = tf.math.confusion_matrix(labels=y_test,predictions=y_pred)\n",
        "\n",
        "plt.figure(figsize = (10,7))\n",
        "sn.heatmap(cm, annot=True, fmt='d')\n",
        "plt.xlabel('Predicted')\n",
        "plt.ylabel('Truth')"
      ],
      "metadata": {
        "colab": {
          "base_uri": "https://localhost:8080/",
          "height": 459
        },
        "id": "cGqO7ZX6ov_2",
        "outputId": "fb18ed02-249e-483a-ca73-2a163d331338"
      },
      "execution_count": 142,
      "outputs": [
        {
          "output_type": "execute_result",
          "data": {
            "text/plain": [
              "Text(69.0, 0.5, 'Truth')"
            ]
          },
          "metadata": {},
          "execution_count": 142
        },
        {
          "output_type": "display_data",
          "data": {
            "text/plain": [
              "<Figure size 720x504 with 2 Axes>"
            ],
            "image/png": "[encoded data removed]"
          },
          "metadata": {
            "needs_background": "light"
          }
        }
      ]
    }
  ],
  "metadata": {
    "accelerator": "GPU",
    "colab": {
      "collapsed_sections": [],
      "name": "customer_churn.ipynb",
      "provenance": []
    },
    "kernelspec": {
      "display_name": "Python 3",
      "name": "python3"
    },
    "language_info": {
      "name": "python"
    }
  },
  "nbformat": 4,
  "nbformat_minor": 0
}